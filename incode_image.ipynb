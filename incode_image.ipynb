{
  "nbformat": 4,
  "nbformat_minor": 0,
  "metadata": {
    "colab": {
      "name": "incode image",
      "provenance": [],
      "collapsed_sections": [],
      "authorship_tag": "ABX9TyOmXnoRWN4KDUrskcUuPxet",
      "include_colab_link": true
    },
    "kernelspec": {
      "name": "python3",
      "display_name": "Python 3"
    }
  },
  "cells": [
    {
      "cell_type": "markdown",
      "metadata": {
        "id": "view-in-github",
        "colab_type": "text"
      },
      "source": [
        "<a href=\"https://colab.research.google.com/github/AhmedElgabryi/image-captioning/blob/master/incode_image.ipynb\" target=\"_parent\"><img src=\"https://colab.research.google.com/assets/colab-badge.svg\" alt=\"Open In Colab\"/></a>"
      ]
    },
    {
      "cell_type": "code",
      "metadata": {
        "id": "DypqgFzeSekI",
        "colab_type": "code",
        "colab": {}
      },
      "source": [
        "from vgg16 import VGG16\n",
        "import numpy as np\n",
        "from keras.preprocessing import image\n",
        "from imagenet_utils import preprocess_input\t\n",
        "import six.moves.cPickle as pickle\n",
        "import progressbar\n",
        "\n",
        "def model_gen():\n",
        "\tmodel = VGG16(weights='imagenet', include_top=True, input_shape = (224, 224, 3))\n",
        "\treturn model\n",
        "\n",
        "\n",
        "def encodings(model, path):\n",
        "\tprocessed_img = image.load_img(path, target_size=(224,224))\n",
        "\tx = image.img_to_array(processed_img)\n",
        "\tx = np.expand_dims(x, axis=0)\n",
        "\tx = preprocess_input(x)\n",
        "\timage_final = np.asarray(x)\n",
        "\tprediction = model.predict(image_final)\n",
        "\tprediction = np.reshape(prediction, prediction.shape[1])\n",
        "\n",
        "\treturn prediction\n",
        "\n",
        "\n",
        "def encode_image():\n",
        "\tmodel = VGG16(weights='imagenet', include_top=True, input_shape = (224, 224, 3))\n",
        "\timage_encodings = {}\n",
        "\t\n",
        "\ttrain_imgs_id = open(\"Flickr8K_Text/Flickr_8k.trainImages.txt\").read().split('\\n')[:-1]\n",
        "\tprint len(train_imgs_id)\n",
        "\ttest_imgs_id = open(\"Flickr8K_Text/Flickr_8k.testImages.txt\").read().split('\\n')[:-1]\n",
        "\timages = []\n",
        "\timages.extend(train_imgs_id)\n",
        "\timages.extend(test_imgs_id)\n",
        "\tprint len(images)\n",
        "\tbar = progressbar.ProgressBar(maxval=len(images), \\\n",
        "    \t\twidgets=[progressbar.Bar('=', '[', ']'), ' ', progressbar.Percentage()])\n",
        "\tbar.start()\n",
        "\tcounter=1\n",
        "\tprint \"Encoding images\"\n",
        "\n",
        "\tfor img in images:\n",
        "\t\tpath = \"Flickr8K_Data/\"+str(img)\n",
        "\t\timage_encodings[img] = encodings(model, path)\n",
        "\t\tbar.update(counter)\n",
        "\t\tcounter += 1\n",
        "\n",
        "\tbar.finish()\n",
        "\twith open( \"image_encodings.p\", \"wb\" ) as pickle_f:\n",
        "\t\tpickle.dump( image_encodings, pickle_f )\n",
        "\tprint \"Encodings dumped into image_encodings.p\"\n",
        "\n",
        "\n",
        "\n",
        "\n",
        "if __name__==\"__main__\":\n",
        "\tencode_image()"
      ],
      "execution_count": 0,
      "outputs": []
    },
    {
      "cell_type": "code",
      "metadata": {
        "id": "ORQlp3T4ZF5H",
        "colab_type": "code",
        "colab": {}
      },
      "source": [
        ""
      ],
      "execution_count": 0,
      "outputs": []
    }
  ]
}